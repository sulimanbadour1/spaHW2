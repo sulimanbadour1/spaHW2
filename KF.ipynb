{
  "nbformat": 4,
  "nbformat_minor": 0,
  "metadata": {
    "colab": {
      "name": "Untitled7.ipynb",
      "provenance": [],
      "authorship_tag": "ABX9TyMCEXwuKZBaS6z9TQw02hm0",
      "include_colab_link": true
    },
    "kernelspec": {
      "name": "python3",
      "display_name": "Python 3"
    }
  },
  "cells": [
    {
      "cell_type": "markdown",
      "metadata": {
        "id": "view-in-github",
        "colab_type": "text"
      },
      "source": [
        "<a href=\"https://colab.research.google.com/github/sulimanbadour1/spaHW2/blob/main/KF.ipynb\" target=\"_parent\"><img src=\"https://colab.research.google.com/assets/colab-badge.svg\" alt=\"Open In Colab\"/></a>"
      ]
    },
    {
      "cell_type": "code",
      "metadata": {
        "id": "fGqPp4ruhSWO"
      },
      "source": [
        "import csv\n",
        "import numpy as np\n",
        "import time\n",
        "import matplotlib.pyplot as plt "
      ],
      "execution_count": 48,
      "outputs": []
    },
    {
      "cell_type": "code",
      "metadata": {
        "id": "jOdn8_39hXKw"
      },
      "source": [
        "with open('case3.txt') as csv_file: # change the DATA TYPE to integer & float to put them in list.\n",
        "    csv_reader = csv.reader(csv_file, delimiter=',')\n",
        "    data = []\n",
        "    dt = []\n",
        "    for row in csv_reader:\n",
        "        data.append(int(float(row[1])))  \n",
        "        dt.append(float(row[0]))  "
      ],
      "execution_count": 49,
      "outputs": []
    },
    {
      "cell_type": "code",
      "metadata": {
        "id": "F0IWgdmmk3nH",
        "outputId": "726ff47b-f26b-4e7a-9f1d-6349042c5ff6",
        "colab": {
          "base_uri": "https://localhost:8080/",
          "height": 34
        }
      },
      "source": [
        "data = np.array(data[0:100]) #MAKE THE NUMP ARRAY \n",
        "len(data)"
      ],
      "execution_count": 50,
      "outputs": [
        {
          "output_type": "execute_result",
          "data": {
            "text/plain": [
              "100"
            ]
          },
          "metadata": {
            "tags": []
          },
          "execution_count": 50
        }
      ]
    },
    {
      "cell_type": "code",
      "metadata": {
        "id": "rppxrsrLk_RV"
      },
      "source": [
        "sigma_eta = 40 "
      ],
      "execution_count": 51,
      "outputs": []
    },
    {
      "cell_type": "code",
      "metadata": {
        "id": "uZVdI7l2lBK_"
      },
      "source": [
        "z = data + np.sqrt(sigma_eta) #claculate the Z"
      ],
      "execution_count": 52,
      "outputs": []
    },
    {
      "cell_type": "code",
      "metadata": {
        "id": "u4YUr1GelB6n"
      },
      "source": [
        "x_opt = np.ones(len(z)) #compute the optimal values\n",
        "e_opt = np.ones(len(z))\n",
        "K = np.ones(len(z))\n",
        "x_opt[0] = z[0];\n",
        "e_opt[0] = sigma_eta;"
      ],
      "execution_count": 53,
      "outputs": []
    },
    {
      "cell_type": "code",
      "metadata": {
        "id": "OT7YSUsUlVW1"
      },
      "source": [
        "for k in range(len(z)-1) : #loop to define the step\n",
        "  e_opt[k+1] = np.sqrt( (sigma_eta**2)*(e_opt[k]**2)/(e_opt[k]**2 + sigma_eta**2))\n",
        "  K[k+1] = e_opt[k+1]**2 / sigma_eta**2\n",
        "  x_opt[k+1] = K[k+1]*z[k+1] + (1-K[k+1])*(x_opt[k])"
      ],
      "execution_count": 54,
      "outputs": []
    },
    {
      "cell_type": "code",
      "metadata": {
        "id": "kOBc37P3lbX2"
      },
      "source": [
        "time = [i for i in range(100)]"
      ],
      "execution_count": 55,
      "outputs": []
    },
    {
      "cell_type": "code",
      "metadata": {
        "id": "3lMd9OsdlcLV",
        "outputId": "9bd5f8f8-dfb4-474c-e98b-97ac639dab99",
        "colab": {
          "base_uri": "https://localhost:8080/",
          "height": 295
        }
      },
      "source": [
        "plt.scatter(time, data, label= \"data\", color= \"black\",  #show the data plot which defines the nature of relationship among DATA & KF.\n",
        "            marker= \"*\", s=15) \n",
        "plt.scatter(time,x_opt, label= \"kalman filter\", color= \"blue\",  \n",
        "            marker= \"*\", s=15) \n",
        "# x-axis label \n",
        "plt.xlabel('x - axis') \n",
        "# frequency label \n",
        "plt.ylabel('y - axis') \n",
        "# plot title \n",
        "plt.title('Data plot') \n",
        "# showing legend \n",
        "plt.legend() \n",
        "  \n",
        "# function to show the plot \n",
        "plt.show() "
      ],
      "execution_count": 56,
      "outputs": [
        {
          "output_type": "display_data",
          "data": {
            "image/png": "[encoded data removed]",
            "text/plain": [
              "<Figure size 432x288 with 1 Axes>"
            ]
          },
          "metadata": {
            "tags": [],
            "needs_background": "light"
          }
        }
      ]
    },
    {
      "cell_type": "code",
      "metadata": {
        "id": "L3gPQ18Jlqj9",
        "outputId": "a7ddabd0-b4b4-41bf-fadf-becdda8faba2",
        "colab": {
          "base_uri": "https://localhost:8080/",
          "height": 357
        }
      },
      "source": [
        "K #THE  KALMAN FILTER COEFFICIENT"
      ],
      "execution_count": 57,
      "outputs": [
        {
          "output_type": "execute_result",
          "data": {
            "text/plain": [
              "array([1.        , 0.5       , 0.33333333, 0.25      , 0.2       ,\n",
              "       0.16666667, 0.14285714, 0.125     , 0.11111111, 0.1       ,\n",
              "       0.09090909, 0.08333333, 0.07692308, 0.07142857, 0.06666667,\n",
              "       0.0625    , 0.05882353, 0.05555556, 0.05263158, 0.05      ,\n",
              "       0.04761905, 0.04545455, 0.04347826, 0.04166667, 0.04      ,\n",
              "       0.03846154, 0.03703704, 0.03571429, 0.03448276, 0.03333333,\n",
              "       0.03225806, 0.03125   , 0.03030303, 0.02941176, 0.02857143,\n",
              "       0.02777778, 0.02702703, 0.02631579, 0.02564103, 0.025     ,\n",
              "       0.02439024, 0.02380952, 0.02325581, 0.02272727, 0.02222222,\n",
              "       0.02173913, 0.0212766 , 0.02083333, 0.02040816, 0.02      ,\n",
              "       0.01960784, 0.01923077, 0.01886792, 0.01851852, 0.01818182,\n",
              "       0.01785714, 0.01754386, 0.01724138, 0.01694915, 0.01666667,\n",
              "       0.01639344, 0.01612903, 0.01587302, 0.015625  , 0.01538462,\n",
              "       0.01515152, 0.01492537, 0.01470588, 0.01449275, 0.01428571,\n",
              "       0.01408451, 0.01388889, 0.01369863, 0.01351351, 0.01333333,\n",
              "       0.01315789, 0.01298701, 0.01282051, 0.01265823, 0.0125    ,\n",
              "       0.01234568, 0.01219512, 0.01204819, 0.01190476, 0.01176471,\n",
              "       0.01162791, 0.01149425, 0.01136364, 0.01123596, 0.01111111,\n",
              "       0.01098901, 0.01086957, 0.01075269, 0.0106383 , 0.01052632,\n",
              "       0.01041667, 0.01030928, 0.01020408, 0.01010101, 0.01      ])"
            ]
          },
          "metadata": {
            "tags": []
          },
          "execution_count": 57
        }
      ]
    },
    {
      "cell_type": "code",
      "metadata": {
        "id": "dEPD9CfolwSm",
        "outputId": "aff18c02-003b-4a90-8e5d-57275432b1e8",
        "colab": {
          "base_uri": "https://localhost:8080/",
          "height": 295
        }
      },
      "source": [
        "plt.scatter(time,K, label= \"kalman gain\", color= \"blue\",  \n",
        "            marker= \"*\", s=15) \n",
        "plt.xlabel('x - axis') \n",
        "# frequency label \n",
        "plt.ylabel('y - axis') \n",
        "# plot title \n",
        "plt.title('Kalman gain plot') \n",
        "# showing legend \n",
        "plt.legend() \n",
        "  \n",
        "# function to show the plot \n",
        "plt.show() "
      ],
      "execution_count": 58,
      "outputs": [
        {
          "output_type": "display_data",
          "data": {
            "image/png": "[encoded data removed]",
            "text/plain": [
              "<Figure size 432x288 with 1 Axes>"
            ]
          },
          "metadata": {
            "tags": [],
            "needs_background": "light"
          }
        }
      ]
    }
  ]
}